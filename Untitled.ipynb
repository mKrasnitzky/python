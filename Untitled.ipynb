{
 "cells": [
  {
   "cell_type": "code",
   "execution_count": 2,
   "id": "e6b6738a-2dd3-4bd7-a2a7-5ee390f3c725",
   "metadata": {},
   "outputs": [
    {
     "name": "stdout",
     "output_type": "stream",
     "text": [
      "Collecting numpy\n",
      "  Downloading numpy-1.26.3-cp310-cp310-win_amd64.whl.metadata (61 kB)\n",
      "     ---------------------------------------- 0.0/61.2 kB ? eta -:--:--\n",
      "     -------------------- ------------------- 30.7/61.2 kB 1.4 MB/s eta 0:00:01\n",
      "     -------------------------------------- 61.2/61.2 kB 822.1 kB/s eta 0:00:00\n",
      "Downloading numpy-1.26.3-cp310-cp310-win_amd64.whl (15.8 MB)\n",
      "   ---------------------------------------- 0.0/15.8 MB ? eta -:--:--\n",
      "   ---------------------------------------- 0.0/15.8 MB ? eta -:--:--\n",
      "   ---------------------------------------- 0.1/15.8 MB 1.6 MB/s eta 0:00:10\n",
      "    --------------------------------------- 0.3/15.8 MB 1.7 MB/s eta 0:00:09\n",
      "   - -------------------------------------- 0.4/15.8 MB 2.5 MB/s eta 0:00:07\n",
      "   - -------------------------------------- 0.7/15.8 MB 3.1 MB/s eta 0:00:05\n",
      "   -- ------------------------------------- 1.0/15.8 MB 3.6 MB/s eta 0:00:05\n",
      "   --- ------------------------------------ 1.3/15.8 MB 4.0 MB/s eta 0:00:04\n",
      "   ---- ----------------------------------- 1.6/15.8 MB 4.3 MB/s eta 0:00:04\n",
      "   ---- ----------------------------------- 1.8/15.8 MB 4.1 MB/s eta 0:00:04\n",
      "   ----- ---------------------------------- 2.1/15.8 MB 4.4 MB/s eta 0:00:04\n",
      "   ------ --------------------------------- 2.4/15.8 MB 4.6 MB/s eta 0:00:03\n",
      "   ------ --------------------------------- 2.7/15.8 MB 4.9 MB/s eta 0:00:03\n",
      "   ------- -------------------------------- 3.1/15.8 MB 4.9 MB/s eta 0:00:03\n",
      "   -------- ------------------------------- 3.4/15.8 MB 5.3 MB/s eta 0:00:03\n",
      "   --------- ------------------------------ 3.8/15.8 MB 5.3 MB/s eta 0:00:03\n",
      "   ---------- ----------------------------- 4.1/15.8 MB 5.5 MB/s eta 0:00:03\n",
      "   ----------- ---------------------------- 4.5/15.8 MB 5.6 MB/s eta 0:00:03\n",
      "   ------------ --------------------------- 4.9/15.8 MB 5.8 MB/s eta 0:00:02\n",
      "   ------------- -------------------------- 5.2/15.8 MB 5.8 MB/s eta 0:00:02\n",
      "   ------------- -------------------------- 5.5/15.8 MB 5.8 MB/s eta 0:00:02\n",
      "   -------------- ------------------------- 5.8/15.8 MB 5.8 MB/s eta 0:00:02\n",
      "   --------------- ------------------------ 6.1/15.8 MB 5.9 MB/s eta 0:00:02\n",
      "   --------------- ------------------------ 6.3/15.8 MB 5.9 MB/s eta 0:00:02\n",
      "   ---------------- ----------------------- 6.7/15.8 MB 6.0 MB/s eta 0:00:02\n",
      "   ----------------- ---------------------- 7.1/15.8 MB 5.9 MB/s eta 0:00:02\n",
      "   ------------------ --------------------- 7.4/15.8 MB 6.1 MB/s eta 0:00:02\n",
      "   ------------------- -------------------- 7.6/15.8 MB 6.0 MB/s eta 0:00:02\n",
      "   ------------------- -------------------- 7.8/15.8 MB 5.9 MB/s eta 0:00:02\n",
      "   -------------------- ------------------- 8.1/15.8 MB 6.0 MB/s eta 0:00:02\n",
      "   --------------------- ------------------ 8.4/15.8 MB 6.0 MB/s eta 0:00:02\n",
      "   --------------------- ------------------ 8.7/15.8 MB 6.0 MB/s eta 0:00:02\n",
      "   ---------------------- ----------------- 8.9/15.8 MB 5.9 MB/s eta 0:00:02\n",
      "   ----------------------- ---------------- 9.2/15.8 MB 6.0 MB/s eta 0:00:02\n",
      "   ------------------------ --------------- 9.6/15.8 MB 6.0 MB/s eta 0:00:02\n",
      "   ------------------------- -------------- 9.9/15.8 MB 6.0 MB/s eta 0:00:01\n",
      "   ------------------------- -------------- 10.3/15.8 MB 6.1 MB/s eta 0:00:01\n",
      "   --------------------------- ------------ 10.7/15.8 MB 6.5 MB/s eta 0:00:01\n",
      "   --------------------------- ------------ 11.0/15.8 MB 6.6 MB/s eta 0:00:01\n",
      "   ---------------------------- ----------- 11.3/15.8 MB 6.6 MB/s eta 0:00:01\n",
      "   ----------------------------- ---------- 11.7/15.8 MB 6.5 MB/s eta 0:00:01\n",
      "   ------------------------------ --------- 12.0/15.8 MB 6.7 MB/s eta 0:00:01\n",
      "   ------------------------------- -------- 12.3/15.8 MB 6.7 MB/s eta 0:00:01\n",
      "   ------------------------------- -------- 12.6/15.8 MB 6.7 MB/s eta 0:00:01\n",
      "   -------------------------------- ------- 12.9/15.8 MB 6.8 MB/s eta 0:00:01\n",
      "   --------------------------------- ------ 13.2/15.8 MB 6.7 MB/s eta 0:00:01\n",
      "   --------------------------------- ------ 13.4/15.8 MB 6.6 MB/s eta 0:00:01\n",
      "   ---------------------------------- ----- 13.8/15.8 MB 6.6 MB/s eta 0:00:01\n",
      "   ----------------------------------- ---- 14.1/15.8 MB 6.5 MB/s eta 0:00:01\n",
      "   ------------------------------------ --- 14.4/15.8 MB 6.5 MB/s eta 0:00:01\n",
      "   ------------------------------------- -- 14.7/15.8 MB 6.5 MB/s eta 0:00:01\n",
      "   -------------------------------------- - 15.1/15.8 MB 6.5 MB/s eta 0:00:01\n",
      "   -------------------------------------- - 15.4/15.8 MB 6.5 MB/s eta 0:00:01\n",
      "   ---------------------------------------  15.7/15.8 MB 6.5 MB/s eta 0:00:01\n",
      "   ---------------------------------------- 15.8/15.8 MB 6.4 MB/s eta 0:00:00\n",
      "Installing collected packages: numpy\n",
      "Note: you may need to restart the kernel to use updated packages.\n"
     ]
    },
    {
     "name": "stderr",
     "output_type": "stream",
     "text": [
      "  WARNING: Failed to write executable - trying to use .deleteme logic\n",
      "ERROR: Could not install packages due to an OSError: [WinError 2] The system cannot find the file specified: 'C:\\\\Python310\\\\Scripts\\\\f2py.exe' -> 'C:\\\\Python310\\\\Scripts\\\\f2py.exe.deleteme'\n",
      "\n"
     ]
    }
   ],
   "source": [
    "pip install numpy"
   ]
  },
  {
   "cell_type": "code",
   "execution_count": 3,
   "id": "817514c3-af40-4499-866d-4a63a4e2a431",
   "metadata": {},
   "outputs": [],
   "source": [
    "import numpy as np"
   ]
  },
  {
   "cell_type": "code",
   "execution_count": 8,
   "id": "dd9af17d-809b-4e52-a5bf-04c7ddfee9ba",
   "metadata": {},
   "outputs": [
    {
     "data": {
      "text/plain": [
       "dtype('int32')"
      ]
     },
     "execution_count": 8,
     "metadata": {},
     "output_type": "execute_result"
    }
   ],
   "source": [
    "random_int_array = np.random.randint(1, 50, size = 10)\n",
    "random_int_array\n"
   ]
  },
  {
   "cell_type": "code",
   "execution_count": 9,
   "id": "8adb2825-063b-4554-88c7-f72aca3ebc9f",
   "metadata": {},
   "outputs": [
    {
     "data": {
      "text/plain": [
       "dtype('int32')"
      ]
     },
     "execution_count": 9,
     "metadata": {},
     "output_type": "execute_result"
    }
   ],
   "source": [
    "random_int_array.dtype"
   ]
  },
  {
   "cell_type": "code",
   "execution_count": 10,
   "id": "d6fb9d71-4399-4729-ab35-51603b62dd70",
   "metadata": {},
   "outputs": [
    {
     "data": {
      "text/plain": [
       "10"
      ]
     },
     "execution_count": 10,
     "metadata": {},
     "output_type": "execute_result"
    }
   ],
   "source": [
    "random_int_array.size"
   ]
  },
  {
   "cell_type": "code",
   "execution_count": 11,
   "id": "2d13f51b-e37d-4db2-8983-d47162abcee3",
   "metadata": {},
   "outputs": [
    {
     "data": {
      "text/plain": [
       "1"
      ]
     },
     "execution_count": 11,
     "metadata": {},
     "output_type": "execute_result"
    }
   ],
   "source": [
    "np.ndim(random_int_array)"
   ]
  },
  {
   "cell_type": "code",
   "execution_count": 12,
   "id": "9c10d8d9-7214-4fd3-a756-748d92dee1e6",
   "metadata": {},
   "outputs": [
    {
     "data": {
      "text/plain": [
       "array([[72, 69, 12, 46, 99],\n",
       "       [20, 48, 35, 40, 75]])"
      ]
     },
     "execution_count": 12,
     "metadata": {},
     "output_type": "execute_result"
    }
   ],
   "source": [
    "random_int_array_2 = np.random.randint(10, 100, size=(2, 5))\n",
    "random_int_array_2"
   ]
  },
  {
   "cell_type": "code",
   "execution_count": 13,
   "id": "24a09bc8-6667-466d-a2de-b69cf56ef8d9",
   "metadata": {},
   "outputs": [
    {
     "data": {
      "text/plain": [
       "2"
      ]
     },
     "execution_count": 13,
     "metadata": {},
     "output_type": "execute_result"
    }
   ],
   "source": [
    "np.ndim(random_int_array_2)"
   ]
  },
  {
   "cell_type": "code",
   "execution_count": 16,
   "id": "936d3863-734e-4790-a273-9421c04a40d7",
   "metadata": {},
   "outputs": [
    {
     "data": {
      "text/plain": [
       "array([32, 43,  6, 25, 30,  9,  3, 32, 33, 33])"
      ]
     },
     "execution_count": 16,
     "metadata": {},
     "output_type": "execute_result"
    }
   ],
   "source": [
    "random_int_array_3 = np.random.randint(1, 50, size=10)\n",
    "random_int_array_3"
   ]
  },
  {
   "cell_type": "code",
   "execution_count": null,
   "id": "2e9447a6-9a66-4e9e-91bf-750c455001b7",
   "metadata": {},
   "outputs": [],
   "source": []
  }
 ],
 "metadata": {
  "kernelspec": {
   "display_name": "Python 3 (ipykernel)",
   "language": "python",
   "name": "python3"
  },
  "language_info": {
   "codemirror_mode": {
    "name": "ipython",
    "version": 3
   },
   "file_extension": ".py",
   "mimetype": "text/x-python",
   "name": "python",
   "nbconvert_exporter": "python",
   "pygments_lexer": "ipython3",
   "version": "3.10.8"
  }
 },
 "nbformat": 4,
 "nbformat_minor": 5
}
